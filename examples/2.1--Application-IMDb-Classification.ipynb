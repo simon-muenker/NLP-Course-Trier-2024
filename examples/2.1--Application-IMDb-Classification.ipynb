{
 "cells": [
  {
   "cell_type": "code",
   "id": "initial_id",
   "metadata": {
    "collapsed": true,
    "ExecuteTime": {
     "end_time": "2024-05-06T11:02:16.876560Z",
     "start_time": "2024-05-06T11:02:13.542231Z"
    }
   },
   "source": [
    "import typing\n",
    "\n",
    "import numpy as np\n",
    "import pandas as pd\n",
    "\n",
    "from datasets import load_dataset\n",
    "\n",
    "from sklearn.feature_extraction.text import TfidfVectorizer\n",
    "from sklearn.metrics import classification_report\n",
    "\n",
    "from sklearn.ensemble import AdaBoostClassifier, RandomForestClassifier\n",
    "from sklearn.neighbors import KNeighborsClassifier\n",
    "from sklearn.neural_network import MLPClassifier\n",
    "from sklearn.tree import DecisionTreeClassifier\n",
    "\n",
    "import cltrier_nlp as nlp"
   ],
   "outputs": [],
   "execution_count": 1
  },
  {
   "metadata": {
    "ExecuteTime": {
     "end_time": "2024-05-06T11:02:16.882643Z",
     "start_time": "2024-05-06T11:02:16.879073Z"
    }
   },
   "cell_type": "code",
   "source": [
    "SAMPLE_SIZE: int = 1_000\n",
    "ENCODER_TYPE: typing.Literal[\"tfidf\", \"transformer\"] = \"tfidf\""
   ],
   "id": "8eb3b398451a75d5",
   "outputs": [],
   "execution_count": 2
  },
  {
   "metadata": {
    "ExecuteTime": {
     "end_time": "2024-05-06T11:02:20.381240Z",
     "start_time": "2024-05-06T11:02:16.885013Z"
    }
   },
   "cell_type": "code",
   "source": "DATASET = load_dataset(\"stanfordnlp/imdb\").shuffle()",
   "id": "7c907a7e9559f81a",
   "outputs": [],
   "execution_count": 3
  },
  {
   "metadata": {
    "ExecuteTime": {
     "end_time": "2024-05-06T11:02:21.890065Z",
     "start_time": "2024-05-06T11:02:20.382665Z"
    }
   },
   "cell_type": "code",
   "source": [
    "ENCODERS: typing.Dict[str, typing.Dict[str, typing.Callable]] = {\n",
    "    \"tfidf\": {\n",
    "        \"engine\": (tfidf := TfidfVectorizer()),\n",
    "        \"embed_train\": lambda x: tfidf.fit_transform(x),\n",
    "        \"embed_test\": lambda x: tfidf.transform(x),\n",
    "    },\n",
    "    \"transformer\": {\n",
    "        \"engine\": (transformer := nlp.encoder.Encoder()),\n",
    "        \"embed_train\": lambda x: np.stack(\n",
    "            [embed.detach().numpy() for embed in nlp.encoder.EncoderPooler(transformer(x), form=\"sent_cls\")]),\n",
    "        \"embed_test\": lambda x: np.stack(\n",
    "            [embed.detach().numpy() for embed in nlp.encoder.EncoderPooler(transformer(x), form=\"sent_cls\")]),\n",
    "    }\n",
    "}"
   ],
   "id": "45d5d0707caf0521",
   "outputs": [
    {
     "name": "stderr",
     "output_type": "stream",
     "text": [
      "/home/simon/.cache/pypoetry/virtualenvs/cltrier-nlp-9-505dFL-py3.11/lib/python3.11/site-packages/huggingface_hub/file_download.py:1132: FutureWarning: `resume_download` is deprecated and will be removed in version 1.0.0. Downloads always resume when possible. If you want to force a new download, use `force_download=True`.\n",
      "  warnings.warn(\n"
     ]
    }
   ],
   "execution_count": 4
  },
  {
   "metadata": {
    "ExecuteTime": {
     "end_time": "2024-05-06T11:02:21.898683Z",
     "start_time": "2024-05-06T11:02:21.895141Z"
    }
   },
   "cell_type": "code",
   "source": [
    "CLASSIFIERS: typing.Dict[str, typing.Callable] = {\n",
    "    \"random_forest\": RandomForestClassifier,\n",
    "    \"ada_boost\": AdaBoostClassifier,\n",
    "    \"decision_tree\": DecisionTreeClassifier,\n",
    "    \"k_neighbors\": KNeighborsClassifier,\n",
    "    \"mlp\": MLPClassifier,\n",
    "}"
   ],
   "id": "73f63dc2d2a81eba",
   "outputs": [],
   "execution_count": 5
  },
  {
   "metadata": {
    "ExecuteTime": {
     "end_time": "2024-05-06T11:02:22.242803Z",
     "start_time": "2024-05-06T11:02:21.900711Z"
    }
   },
   "cell_type": "code",
   "source": [
    "X_train_embed = ENCODERS[ENCODER_TYPE][\"embed_train\"](DATASET[\"train\"][:SAMPLE_SIZE][\"text\"])\n",
    "X_test_embed = ENCODERS[ENCODER_TYPE][\"embed_test\"](DATASET[\"test\"][:SAMPLE_SIZE][\"text\"])"
   ],
   "id": "88735bf89544101e",
   "outputs": [],
   "execution_count": 6
  },
  {
   "metadata": {
    "ExecuteTime": {
     "end_time": "2024-05-06T11:04:52.421420Z",
     "start_time": "2024-05-06T11:04:23.293046Z"
    }
   },
   "cell_type": "code",
   "source": [
    "(\n",
    "    pd.json_normalize(\n",
    "        data=[\n",
    "            classification_report(\n",
    "                DATASET[\"test\"][\"label\"][:SAMPLE_SIZE],\n",
    "                (\n",
    "                    cls()\n",
    "                    .fit(X_train_embed, DATASET[\"train\"][\"label\"][:SAMPLE_SIZE])\n",
    "                    .predict(X_test_embed)\n",
    "                ),\n",
    "                zero_division=1.,\n",
    "                output_dict=True\n",
    "            ) | {\"classifier\": label, \"encoder\": ENCODER_TYPE}\n",
    "            for label, cls in CLASSIFIERS.items()\n",
    "        ]\n",
    "    )\n",
    "    .set_index(\"classifier\", drop=True)\n",
    "    .filter(\n",
    "        items=[\n",
    "            \"accuracy\",\n",
    "            \"macro avg.f1-score\",\n",
    "            \"weighted avg.f1-score\"\n",
    "        ]\n",
    "    )\n",
    "    .sort_values(by=\"accuracy\", ascending=False)\n",
    ")"
   ],
   "id": "4bd5dbb3f391633c",
   "outputs": [
    {
     "name": "stderr",
     "output_type": "stream",
     "text": [
      "/home/simon/.cache/pypoetry/virtualenvs/cltrier-nlp-9-505dFL-py3.11/lib/python3.11/site-packages/sklearn/ensemble/_weight_boosting.py:519: FutureWarning: The SAMME.R algorithm (the default) is deprecated and will be removed in 1.6. Use the SAMME algorithm to circumvent this warning.\n",
      "  warnings.warn(\n"
     ]
    },
    {
     "data": {
      "text/plain": [
       "               accuracy  macro avg.f1-score  weighted avg.f1-score\n",
       "classifier                                                        \n",
       "mlp               0.844            0.843774               0.843869\n",
       "ada_boost         0.770            0.769594               0.769748\n",
       "random_forest     0.755            0.754024               0.753776\n",
       "decision_tree     0.660            0.659864               0.659755\n",
       "k_neighbors       0.653            0.652708               0.652869"
      ],
      "text/html": [
       "<div>\n",
       "<style scoped>\n",
       "    .dataframe tbody tr th:only-of-type {\n",
       "        vertical-align: middle;\n",
       "    }\n",
       "\n",
       "    .dataframe tbody tr th {\n",
       "        vertical-align: top;\n",
       "    }\n",
       "\n",
       "    .dataframe thead th {\n",
       "        text-align: right;\n",
       "    }\n",
       "</style>\n",
       "<table border=\"1\" class=\"dataframe\">\n",
       "  <thead>\n",
       "    <tr style=\"text-align: right;\">\n",
       "      <th></th>\n",
       "      <th>accuracy</th>\n",
       "      <th>macro avg.f1-score</th>\n",
       "      <th>weighted avg.f1-score</th>\n",
       "    </tr>\n",
       "    <tr>\n",
       "      <th>classifier</th>\n",
       "      <th></th>\n",
       "      <th></th>\n",
       "      <th></th>\n",
       "    </tr>\n",
       "  </thead>\n",
       "  <tbody>\n",
       "    <tr>\n",
       "      <th>mlp</th>\n",
       "      <td>0.844</td>\n",
       "      <td>0.843774</td>\n",
       "      <td>0.843869</td>\n",
       "    </tr>\n",
       "    <tr>\n",
       "      <th>ada_boost</th>\n",
       "      <td>0.770</td>\n",
       "      <td>0.769594</td>\n",
       "      <td>0.769748</td>\n",
       "    </tr>\n",
       "    <tr>\n",
       "      <th>random_forest</th>\n",
       "      <td>0.755</td>\n",
       "      <td>0.754024</td>\n",
       "      <td>0.753776</td>\n",
       "    </tr>\n",
       "    <tr>\n",
       "      <th>decision_tree</th>\n",
       "      <td>0.660</td>\n",
       "      <td>0.659864</td>\n",
       "      <td>0.659755</td>\n",
       "    </tr>\n",
       "    <tr>\n",
       "      <th>k_neighbors</th>\n",
       "      <td>0.653</td>\n",
       "      <td>0.652708</td>\n",
       "      <td>0.652869</td>\n",
       "    </tr>\n",
       "  </tbody>\n",
       "</table>\n",
       "</div>"
      ]
     },
     "execution_count": 9,
     "metadata": {},
     "output_type": "execute_result"
    }
   ],
   "execution_count": 9
  }
 ],
 "metadata": {
  "kernelspec": {
   "display_name": "Python 3",
   "language": "python",
   "name": "python3"
  },
  "language_info": {
   "codemirror_mode": {
    "name": "ipython",
    "version": 2
   },
   "file_extension": ".py",
   "mimetype": "text/x-python",
   "name": "python",
   "nbconvert_exporter": "python",
   "pygments_lexer": "ipython2",
   "version": "2.7.6"
  }
 },
 "nbformat": 4,
 "nbformat_minor": 5
}
