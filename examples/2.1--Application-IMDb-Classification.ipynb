{
 "cells": [
  {
   "cell_type": "code",
   "execution_count": 1,
   "id": "initial_id",
   "metadata": {
    "ExecuteTime": {
     "end_time": "2024-05-06T11:02:16.876560Z",
     "start_time": "2024-05-06T11:02:13.542231Z"
    }
   },
   "outputs": [],
   "source": [
    "import typing\n",
    "\n",
    "import numpy as np\n",
    "import pandas as pd\n",
    "\n",
    "from datasets import load_dataset\n",
    "\n",
    "import tqdm \n",
    "import requests\n",
    "\n",
    "from sklearn.feature_extraction.text import TfidfVectorizer\n",
    "from sklearn.metrics import classification_report\n",
    "\n",
    "from sklearn.ensemble import AdaBoostClassifier, RandomForestClassifier\n",
    "from sklearn.neighbors import KNeighborsClassifier\n",
    "from sklearn.neural_network import MLPClassifier\n",
    "from sklearn.tree import DecisionTreeClassifier\n",
    "\n",
    "import cltrier_nlp as nlp"
   ]
  },
  {
   "cell_type": "code",
   "execution_count": 2,
   "id": "8eb3b398451a75d5",
   "metadata": {
    "ExecuteTime": {
     "end_time": "2024-05-06T11:02:16.882643Z",
     "start_time": "2024-05-06T11:02:16.879073Z"
    }
   },
   "outputs": [],
   "source": [
    "SAMPLE_SIZE: int = 1_000"
   ]
  },
  {
   "cell_type": "code",
   "execution_count": 3,
   "id": "7c907a7e9559f81a",
   "metadata": {
    "ExecuteTime": {
     "end_time": "2024-05-06T11:02:20.381240Z",
     "start_time": "2024-05-06T11:02:16.885013Z"
    }
   },
   "outputs": [],
   "source": [
    "DATASET = load_dataset(\"stanfordnlp/imdb\").shuffle()"
   ]
  },
  {
   "cell_type": "code",
   "execution_count": 4,
   "id": "daf5e2a1",
   "metadata": {},
   "outputs": [],
   "source": [
    "def remote_encoding(batch: typing.List[str]) -> typing.List:\n",
    "    embeds: typing.List[np.ndarray] = []\n",
    "\n",
    "    for value in tqdm.tqdm(batch):\n",
    "    \n",
    "        try: \n",
    "            embed = np.array(requests.post(\n",
    "                'https://inf.cl.uni-trier.de/embed/',\n",
    "                json={'prompt': value}\n",
    "            ).json()[\"response\"])\n",
    "            \n",
    "        except Exception as _e:\n",
    "            display(_e)\n",
    "            embed = None\n",
    "        \n",
    "        embeds.append(embed)\n",
    "\n",
    "    return embeds"
   ]
  },
  {
   "cell_type": "code",
   "execution_count": 5,
   "id": "45d5d0707caf0521",
   "metadata": {
    "ExecuteTime": {
     "end_time": "2024-05-06T11:02:21.890065Z",
     "start_time": "2024-05-06T11:02:20.382665Z"
    }
   },
   "outputs": [
    {
     "name": "stderr",
     "output_type": "stream",
     "text": [
      "/home/simon/.cache/pypoetry/virtualenvs/cltrier-nlp-9-505dFL-py3.12/lib/python3.12/site-packages/huggingface_hub/file_download.py:1132: FutureWarning: `resume_download` is deprecated and will be removed in version 1.0.0. Downloads always resume when possible. If you want to force a new download, use `force_download=True`.\n",
      "  warnings.warn(\n"
     ]
    }
   ],
   "source": [
    "ENCODERS: typing.Dict[str, typing.Dict[str, typing.Callable]] = {\n",
    "    \"tfidf\": {\n",
    "        \"engine\": (tfidf := TfidfVectorizer()),\n",
    "        \"embed_train\": lambda x: tfidf.fit_transform(x),\n",
    "        \"embed_test\": lambda x: tfidf.transform(x),\n",
    "    },\n",
    "    \"tiny transformer (local)\": {\n",
    "        \"engine\": (transformer := nlp.encoder.Encoder()),\n",
    "        \"embed_train\": lambda x: np.stack(\n",
    "            [embed.detach().numpy() for embed in nlp.encoder.EncoderPooler()(transformer(x), form=\"sent_cls\")]),\n",
    "        \"embed_test\": lambda x: np.stack(\n",
    "            [embed.detach().numpy() for embed in nlp.encoder.EncoderPooler()(transformer(x), form=\"sent_cls\")]),\n",
    "    },\n",
    "    \"sota transformer (remote)\": {\n",
    "        \"embed_train\": lambda x: remote_encoding(x),\n",
    "        \"embed_test\": lambda x: remote_encoding(x),\n",
    "    }\n",
    "}"
   ]
  },
  {
   "cell_type": "code",
   "execution_count": 6,
   "id": "73f63dc2d2a81eba",
   "metadata": {
    "ExecuteTime": {
     "end_time": "2024-05-06T11:02:21.898683Z",
     "start_time": "2024-05-06T11:02:21.895141Z"
    }
   },
   "outputs": [],
   "source": [
    "CLASSIFIERS: typing.Dict[str, typing.Callable] = {\n",
    "    \"random_forest\": RandomForestClassifier,\n",
    "    \"ada_boost\": AdaBoostClassifier,\n",
    "    \"decision_tree\": DecisionTreeClassifier,\n",
    "    \"k_neighbors\": KNeighborsClassifier,\n",
    "    \"mlp\": MLPClassifier,\n",
    "}"
   ]
  },
  {
   "cell_type": "code",
   "execution_count": 7,
   "id": "4bd5dbb3f391633c",
   "metadata": {
    "ExecuteTime": {
     "end_time": "2024-05-06T11:04:52.421420Z",
     "start_time": "2024-05-06T11:04:23.293046Z"
    }
   },
   "outputs": [
    {
     "name": "stderr",
     "output_type": "stream",
     "text": [
      "/home/simon/.cache/pypoetry/virtualenvs/cltrier-nlp-9-505dFL-py3.12/lib/python3.12/site-packages/sklearn/ensemble/_weight_boosting.py:527: FutureWarning: The SAMME.R algorithm (the default) is deprecated and will be removed in 1.6. Use the SAMME algorithm to circumvent this warning.\n",
      "  warnings.warn(\n",
      "/home/simon/.cache/pypoetry/virtualenvs/cltrier-nlp-9-505dFL-py3.12/lib/python3.12/site-packages/sklearn/ensemble/_weight_boosting.py:527: FutureWarning: The SAMME.R algorithm (the default) is deprecated and will be removed in 1.6. Use the SAMME algorithm to circumvent this warning.\n",
      "  warnings.warn(\n",
      "/home/simon/.cache/pypoetry/virtualenvs/cltrier-nlp-9-505dFL-py3.12/lib/python3.12/site-packages/sklearn/neural_network/_multilayer_perceptron.py:690: ConvergenceWarning: Stochastic Optimizer: Maximum iterations (200) reached and the optimization hasn't converged yet.\n",
      "  warnings.warn(\n",
      "100%|██████████| 1000/1000 [02:46<00:00,  6.02it/s]\n",
      "100%|██████████| 1000/1000 [03:08<00:00,  5.31it/s]\n",
      "/home/simon/.cache/pypoetry/virtualenvs/cltrier-nlp-9-505dFL-py3.12/lib/python3.12/site-packages/sklearn/ensemble/_weight_boosting.py:527: FutureWarning: The SAMME.R algorithm (the default) is deprecated and will be removed in 1.6. Use the SAMME algorithm to circumvent this warning.\n",
      "  warnings.warn(\n"
     ]
    }
   ],
   "source": [
    "results: typing.List[pd.DataFrame] = []\n",
    "\n",
    "for encoder_label, encoder in ENCODERS.items():\n",
    "\n",
    "    embed_train = encoder[\"embed_train\"](DATASET[\"train\"][:SAMPLE_SIZE][\"text\"])\n",
    "    embed_test = encoder[\"embed_test\"](DATASET[\"test\"][:SAMPLE_SIZE][\"text\"])\n",
    "\n",
    "    results.append(\n",
    "        pd.json_normalize(\n",
    "            data=[\n",
    "                classification_report(\n",
    "                    DATASET[\"test\"][\"label\"][:SAMPLE_SIZE],\n",
    "                    (\n",
    "                        classifier()\n",
    "                        .fit(\n",
    "                                embed_train, \n",
    "                                DATASET[\"train\"][\"label\"][:SAMPLE_SIZE]\n",
    "                            )\n",
    "                        .predict(embed_test)\n",
    "                    ),\n",
    "                    zero_division=1.,\n",
    "                    output_dict=True\n",
    "                ) | {\"classifier\": classifier_label, \"encoder\": encoder_label}\n",
    "                for classifier_label, classifier in CLASSIFIERS.items()\n",
    "            ]\n",
    "        )\n",
    "        .set_index([\"encoder\", \"classifier\"], drop=True)\n",
    "        .filter(\n",
    "            items=[\n",
    "                \"accuracy\",\n",
    "                \"macro avg.f1-score\",\n",
    "                \"weighted avg.f1-score\"\n",
    "            ]\n",
    "        )\n",
    "        .sort_values(by=\"accuracy\", ascending=False)\n",
    "    )"
   ]
  },
  {
   "cell_type": "code",
   "execution_count": 8,
   "id": "329bbd78",
   "metadata": {},
   "outputs": [
    {
     "data": {
      "text/html": [
       "<div>\n",
       "<style scoped>\n",
       "    .dataframe tbody tr th:only-of-type {\n",
       "        vertical-align: middle;\n",
       "    }\n",
       "\n",
       "    .dataframe tbody tr th {\n",
       "        vertical-align: top;\n",
       "    }\n",
       "\n",
       "    .dataframe thead th {\n",
       "        text-align: right;\n",
       "    }\n",
       "</style>\n",
       "<table border=\"1\" class=\"dataframe\">\n",
       "  <thead>\n",
       "    <tr style=\"text-align: right;\">\n",
       "      <th></th>\n",
       "      <th></th>\n",
       "      <th>accuracy</th>\n",
       "      <th>macro avg.f1-score</th>\n",
       "      <th>weighted avg.f1-score</th>\n",
       "    </tr>\n",
       "    <tr>\n",
       "      <th>encoder</th>\n",
       "      <th>classifier</th>\n",
       "      <th></th>\n",
       "      <th></th>\n",
       "      <th></th>\n",
       "    </tr>\n",
       "  </thead>\n",
       "  <tbody>\n",
       "    <tr>\n",
       "      <th rowspan=\"4\" valign=\"top\">sota transformer (remote)</th>\n",
       "      <th>random_forest</th>\n",
       "      <td>0.885</td>\n",
       "      <td>0.884163</td>\n",
       "      <td>0.884557</td>\n",
       "    </tr>\n",
       "    <tr>\n",
       "      <th>mlp</th>\n",
       "      <td>0.878</td>\n",
       "      <td>0.877875</td>\n",
       "      <td>0.878031</td>\n",
       "    </tr>\n",
       "    <tr>\n",
       "      <th>k_neighbors</th>\n",
       "      <td>0.865</td>\n",
       "      <td>0.864277</td>\n",
       "      <td>0.864673</td>\n",
       "    </tr>\n",
       "    <tr>\n",
       "      <th>ada_boost</th>\n",
       "      <td>0.849</td>\n",
       "      <td>0.848575</td>\n",
       "      <td>0.848896</td>\n",
       "    </tr>\n",
       "    <tr>\n",
       "      <th rowspan=\"2\" valign=\"top\">tfidf</th>\n",
       "      <th>mlp</th>\n",
       "      <td>0.805</td>\n",
       "      <td>0.804223</td>\n",
       "      <td>0.804716</td>\n",
       "    </tr>\n",
       "    <tr>\n",
       "      <th>random_forest</th>\n",
       "      <td>0.801</td>\n",
       "      <td>0.800727</td>\n",
       "      <td>0.801022</td>\n",
       "    </tr>\n",
       "    <tr>\n",
       "      <th>sota transformer (remote)</th>\n",
       "      <th>decision_tree</th>\n",
       "      <td>0.765</td>\n",
       "      <td>0.764338</td>\n",
       "      <td>0.764838</td>\n",
       "    </tr>\n",
       "    <tr>\n",
       "      <th>tfidf</th>\n",
       "      <th>ada_boost</th>\n",
       "      <td>0.741</td>\n",
       "      <td>0.737769</td>\n",
       "      <td>0.738933</td>\n",
       "    </tr>\n",
       "    <tr>\n",
       "      <th rowspan=\"2\" valign=\"top\">tiny transformer (local)</th>\n",
       "      <th>mlp</th>\n",
       "      <td>0.721</td>\n",
       "      <td>0.720575</td>\n",
       "      <td>0.721011</td>\n",
       "    </tr>\n",
       "    <tr>\n",
       "      <th>random_forest</th>\n",
       "      <td>0.693</td>\n",
       "      <td>0.692483</td>\n",
       "      <td>0.692987</td>\n",
       "    </tr>\n",
       "    <tr>\n",
       "      <th>tfidf</th>\n",
       "      <th>decision_tree</th>\n",
       "      <td>0.666</td>\n",
       "      <td>0.665410</td>\n",
       "      <td>0.665972</td>\n",
       "    </tr>\n",
       "    <tr>\n",
       "      <th rowspan=\"3\" valign=\"top\">tiny transformer (local)</th>\n",
       "      <th>ada_boost</th>\n",
       "      <td>0.665</td>\n",
       "      <td>0.664126</td>\n",
       "      <td>0.664812</td>\n",
       "    </tr>\n",
       "    <tr>\n",
       "      <th>k_neighbors</th>\n",
       "      <td>0.631</td>\n",
       "      <td>0.629336</td>\n",
       "      <td>0.628343</td>\n",
       "    </tr>\n",
       "    <tr>\n",
       "      <th>decision_tree</th>\n",
       "      <td>0.613</td>\n",
       "      <td>0.612674</td>\n",
       "      <td>0.613124</td>\n",
       "    </tr>\n",
       "    <tr>\n",
       "      <th>tfidf</th>\n",
       "      <th>k_neighbors</th>\n",
       "      <td>0.623</td>\n",
       "      <td>0.605780</td>\n",
       "      <td>0.609076</td>\n",
       "    </tr>\n",
       "  </tbody>\n",
       "</table>\n",
       "</div>"
      ],
      "text/plain": [
       "                                         accuracy  macro avg.f1-score  \\\n",
       "encoder                   classifier                                    \n",
       "sota transformer (remote) random_forest     0.885            0.884163   \n",
       "                          mlp               0.878            0.877875   \n",
       "                          k_neighbors       0.865            0.864277   \n",
       "                          ada_boost         0.849            0.848575   \n",
       "tfidf                     mlp               0.805            0.804223   \n",
       "                          random_forest     0.801            0.800727   \n",
       "sota transformer (remote) decision_tree     0.765            0.764338   \n",
       "tfidf                     ada_boost         0.741            0.737769   \n",
       "tiny transformer (local)  mlp               0.721            0.720575   \n",
       "                          random_forest     0.693            0.692483   \n",
       "tfidf                     decision_tree     0.666            0.665410   \n",
       "tiny transformer (local)  ada_boost         0.665            0.664126   \n",
       "                          k_neighbors       0.631            0.629336   \n",
       "                          decision_tree     0.613            0.612674   \n",
       "tfidf                     k_neighbors       0.623            0.605780   \n",
       "\n",
       "                                         weighted avg.f1-score  \n",
       "encoder                   classifier                            \n",
       "sota transformer (remote) random_forest               0.884557  \n",
       "                          mlp                         0.878031  \n",
       "                          k_neighbors                 0.864673  \n",
       "                          ada_boost                   0.848896  \n",
       "tfidf                     mlp                         0.804716  \n",
       "                          random_forest               0.801022  \n",
       "sota transformer (remote) decision_tree               0.764838  \n",
       "tfidf                     ada_boost                   0.738933  \n",
       "tiny transformer (local)  mlp                         0.721011  \n",
       "                          random_forest               0.692987  \n",
       "tfidf                     decision_tree               0.665972  \n",
       "tiny transformer (local)  ada_boost                   0.664812  \n",
       "                          k_neighbors                 0.628343  \n",
       "                          decision_tree               0.613124  \n",
       "tfidf                     k_neighbors                 0.609076  "
      ]
     },
     "execution_count": 8,
     "metadata": {},
     "output_type": "execute_result"
    }
   ],
   "source": [
    "pd.concat(results).sort_values(by=\"weighted avg.f1-score\", ascending=False)"
   ]
  }
 ],
 "metadata": {
  "kernelspec": {
   "display_name": "Python 3 (ipykernel)",
   "language": "python",
   "name": "python3"
  },
  "language_info": {
   "codemirror_mode": {
    "name": "ipython",
    "version": 3
   },
   "file_extension": ".py",
   "mimetype": "text/x-python",
   "name": "python",
   "nbconvert_exporter": "python",
   "pygments_lexer": "ipython3",
   "version": "3.12.3"
  }
 },
 "nbformat": 4,
 "nbformat_minor": 5
}
