{
 "cells": [
  {
   "cell_type": "code",
   "execution_count": null,
   "id": "initial_id",
   "metadata": {
    "ExecuteTime": {
     "end_time": "2024-05-06T11:02:16.876560Z",
     "start_time": "2024-05-06T11:02:13.542231Z"
    }
   },
   "outputs": [],
   "source": [
    "import typing\n",
    "\n",
    "import numpy as np\n",
    "import pandas as pd\n",
    "\n",
    "from datasets import load_dataset\n",
    "\n",
    "import tqdm \n",
    "import requests\n",
    "\n",
    "from sklearn.feature_extraction.text import TfidfVectorizer\n",
    "from sklearn.metrics import classification_report\n",
    "\n",
    "from sklearn.ensemble import AdaBoostClassifier, RandomForestClassifier\n",
    "from sklearn.neighbors import KNeighborsClassifier\n",
    "from sklearn.neural_network import MLPClassifier\n",
    "from sklearn.tree import DecisionTreeClassifier\n",
    "\n",
    "import cltrier_nlp as nlp"
   ]
  },
  {
   "cell_type": "code",
   "execution_count": null,
   "id": "8eb3b398451a75d5",
   "metadata": {
    "ExecuteTime": {
     "end_time": "2024-05-06T11:02:16.882643Z",
     "start_time": "2024-05-06T11:02:16.879073Z"
    }
   },
   "outputs": [],
   "source": [
    "SAMPLE_SIZE: int = 2_500"
   ]
  },
  {
   "cell_type": "code",
   "execution_count": null,
   "id": "7c907a7e9559f81a",
   "metadata": {
    "ExecuteTime": {
     "end_time": "2024-05-06T11:02:20.381240Z",
     "start_time": "2024-05-06T11:02:16.885013Z"
    }
   },
   "outputs": [],
   "source": [
    "DATASET = load_dataset(\"stanfordnlp/imdb\").shuffle()"
   ]
  },
  {
   "cell_type": "code",
   "execution_count": null,
   "id": "daf5e2a1",
   "metadata": {},
   "outputs": [],
   "source": [
    "def remote_encoding(batch: typing.List[str]) -> typing.List:\n",
    "    embeds: typing.List[np.ndarray] = []\n",
    "\n",
    "    for value in tqdm.tqdm(batch):\n",
    "    \n",
    "        try: \n",
    "            embed = np.array(requests.post(\n",
    "                'https://inf.cl.uni-trier.de/embed/',\n",
    "                json={'prompt': value}\n",
    "            ).json()[\"response\"])\n",
    "            \n",
    "        except Exception as _e:\n",
    "            display(_e)\n",
    "            embed = None\n",
    "        \n",
    "        embeds.append(embed)\n",
    "\n",
    "    return embeds"
   ]
  },
  {
   "cell_type": "code",
   "execution_count": null,
   "id": "45d5d0707caf0521",
   "metadata": {
    "ExecuteTime": {
     "end_time": "2024-05-06T11:02:21.890065Z",
     "start_time": "2024-05-06T11:02:20.382665Z"
    }
   },
   "outputs": [],
   "source": [
    "ENCODERS: typing.Dict[str, typing.Dict[str, typing.Callable]] = {\n",
    "    \"tfidf\": {\n",
    "        \"engine\": (tfidf := TfidfVectorizer()),\n",
    "        \"embed_train\": lambda x: tfidf.fit_transform(x),\n",
    "        \"embed_test\": lambda x: tfidf.transform(x),\n",
    "    },\n",
    "    \"tiny transformer (local)\": {\n",
    "        \"engine\": (transformer := nlp.encoder.Encoder()),\n",
    "        \"embed_train\": lambda x: np.stack(\n",
    "            [embed.detach().numpy() for embed in nlp.encoder.EncoderPooler()(transformer(x), form=\"sent_cls\")]),\n",
    "        \"embed_test\": lambda x: np.stack(\n",
    "            [embed.detach().numpy() for embed in nlp.encoder.EncoderPooler()(transformer(x), form=\"sent_cls\")]),\n",
    "    },\n",
    "    \"sota transformer (remote)\": {\n",
    "        \"embed_train\": lambda x: remote_encoding(x),\n",
    "        \"embed_test\": lambda x: remote_encoding(x),\n",
    "    }\n",
    "}"
   ]
  },
  {
   "cell_type": "code",
   "execution_count": null,
   "id": "73f63dc2d2a81eba",
   "metadata": {
    "ExecuteTime": {
     "end_time": "2024-05-06T11:02:21.898683Z",
     "start_time": "2024-05-06T11:02:21.895141Z"
    }
   },
   "outputs": [],
   "source": [
    "CLASSIFIERS: typing.Dict[str, typing.Callable] = {\n",
    "    \"random_forest\": RandomForestClassifier,\n",
    "    \"ada_boost\": AdaBoostClassifier,\n",
    "    \"decision_tree\": DecisionTreeClassifier,\n",
    "    \"k_neighbors\": KNeighborsClassifier,\n",
    "    \"mlp\": MLPClassifier,\n",
    "}"
   ]
  },
  {
   "cell_type": "code",
   "execution_count": null,
   "id": "4bd5dbb3f391633c",
   "metadata": {
    "ExecuteTime": {
     "end_time": "2024-05-06T11:04:52.421420Z",
     "start_time": "2024-05-06T11:04:23.293046Z"
    }
   },
   "outputs": [],
   "source": [
    "results: typing.List[pd.DataFrame] = []\n",
    "\n",
    "for encoder_label, encoder in ENCODERS.items():\n",
    "\n",
    "    embed_train = encoder[\"embed_train\"](DATASET[\"train\"][:SAMPLE_SIZE][\"text\"])\n",
    "    embed_test = encoder[\"embed_test\"](DATASET[\"test\"][:SAMPLE_SIZE][\"text\"])\n",
    "\n",
    "    results.append(\n",
    "        pd.json_normalize(\n",
    "            data=[\n",
    "                classification_report(\n",
    "                    DATASET[\"test\"][\"label\"][:SAMPLE_SIZE],\n",
    "                    (\n",
    "                        classifier()\n",
    "                        .fit(\n",
    "                                embed_train, \n",
    "                                DATASET[\"train\"][\"label\"][:SAMPLE_SIZE]\n",
    "                            )\n",
    "                        .predict(embed_test)\n",
    "                    ),\n",
    "                    zero_division=1.,\n",
    "                    output_dict=True\n",
    "                ) | {\"classifier\": classifier_label, \"encoder\": encoder_label}\n",
    "                for classifier_label, classifier in CLASSIFIERS.items()\n",
    "            ]\n",
    "        )\n",
    "        .set_index([\"encoder\", \"classifier\"], drop=True)\n",
    "        .filter(\n",
    "            items=[\n",
    "                \"accuracy\",\n",
    "                \"macro avg.f1-score\",\n",
    "                \"weighted avg.f1-score\"\n",
    "            ]\n",
    "        )\n",
    "        .sort_values(by=\"accuracy\", ascending=False)\n",
    "    )"
   ]
  },
  {
   "cell_type": "code",
   "execution_count": null,
   "id": "329bbd78",
   "metadata": {},
   "outputs": [],
   "source": [
    "pd.concat(results).sort_values(by=\"weighted avg.f1-score\", ascending=False)"
   ]
  }
 ],
 "metadata": {
  "kernelspec": {
   "display_name": "Python 3 (ipykernel)",
   "language": "python",
   "name": "python3"
  },
  "language_info": {
   "codemirror_mode": {
    "name": "ipython",
    "version": 3
   },
   "file_extension": ".py",
   "mimetype": "text/x-python",
   "name": "python",
   "nbconvert_exporter": "python",
   "pygments_lexer": "ipython3",
   "version": "3.12.3"
  }
 },
 "nbformat": 4,
 "nbformat_minor": 5
}
