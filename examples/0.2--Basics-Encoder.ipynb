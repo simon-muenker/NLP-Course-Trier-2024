{
 "cells": [
  {
   "cell_type": "code",
   "id": "initial_id",
   "metadata": {
    "collapsed": true,
    "ExecuteTime": {
     "end_time": "2024-05-02T15:32:49.363030Z",
     "start_time": "2024-05-02T15:32:43.074511Z"
    }
   },
   "source": [
    "import pandas as pd\n",
    "import seaborn as sns\n",
    "import numpy as np\n",
    "\n",
    "from sklearn.decomposition import PCA\n",
    "\n",
    "import cltrier_nlp as nlp"
   ],
   "outputs": [],
   "execution_count": 1
  },
  {
   "metadata": {
    "ExecuteTime": {
     "end_time": "2024-05-02T15:32:51.020334Z",
     "start_time": "2024-05-02T15:32:51.016450Z"
    }
   },
   "cell_type": "code",
   "source": [
    "CORPUS_FILE: str = './data/corpus.txt'\n",
    "BATCH_SIZE: int = 80"
   ],
   "id": "39f16235201a5120",
   "outputs": [],
   "execution_count": 2
  },
  {
   "metadata": {
    "ExecuteTime": {
     "end_time": "2024-05-02T15:33:01.463015Z",
     "start_time": "2024-05-02T15:32:52.977590Z"
    }
   },
   "cell_type": "code",
   "source": "corpus = nlp.corpus.Corpus.from_txt(CORPUS_FILE)",
   "id": "cb43a96a57afdf90",
   "outputs": [],
   "execution_count": 3
  },
  {
   "metadata": {
    "ExecuteTime": {
     "end_time": "2024-05-02T15:33:09.147488Z",
     "start_time": "2024-05-02T15:33:06.388667Z"
    }
   },
   "cell_type": "code",
   "source": [
    "encoder = nlp.encoder.Encoder()\n",
    "pooler = nlp.encoder.EncoderPooler()"
   ],
   "id": "83492fe61ed5ee40",
   "outputs": [],
   "execution_count": 4
  },
  {
   "metadata": {
    "ExecuteTime": {
     "end_time": "2024-05-02T15:33:18.251473Z",
     "start_time": "2024-05-02T15:33:18.246875Z"
    }
   },
   "cell_type": "code",
   "source": [
    "batch: dict = {\n",
    "    'x': [sent.raw for sent in corpus.sentences[:BATCH_SIZE]],\n",
    "    'y': [sent.language for sent in corpus.sentences[:BATCH_SIZE]],\n",
    "}"
   ],
   "id": "66e7ae4127d406de",
   "outputs": [],
   "execution_count": 6
  },
  {
   "metadata": {
    "ExecuteTime": {
     "end_time": "2024-05-02T15:33:24.782201Z",
     "start_time": "2024-05-02T15:33:21.264655Z"
    }
   },
   "cell_type": "code",
   "source": [
    "encodes = encoder(batch['x'])\n",
    "encodes.model_dump().keys()"
   ],
   "id": "a7f65db777a530e5",
   "outputs": [
    {
     "data": {
      "text/plain": [
       "dict_keys(['embeds', 'token', 'input_ids', 'token_type_ids', 'attention_mask', 'offset_mapping', 'unpad'])"
      ]
     },
     "execution_count": 7,
     "metadata": {},
     "output_type": "execute_result"
    }
   ],
   "execution_count": 7
  },
  {
   "metadata": {
    "ExecuteTime": {
     "end_time": "2024-05-02T15:33:32.881445Z",
     "start_time": "2024-05-02T15:33:32.850910Z"
    }
   },
   "cell_type": "code",
   "source": [
    "embeds: np.ndarray = PCA(n_components=2).fit_transform(\n",
    "    np.stack([embed.detach().numpy() for embed in pooler(encodes, form=\"sent_cls\")])\n",
    ")"
   ],
   "id": "7461d8d244a709ac",
   "outputs": [],
   "execution_count": 8
  },
  {
   "metadata": {
    "ExecuteTime": {
     "end_time": "2024-05-02T15:33:35.081371Z",
     "start_time": "2024-05-02T15:33:35.052991Z"
    }
   },
   "cell_type": "code",
   "source": [
    "data = pd.DataFrame(\n",
    "    [(emb[0], emb[1], lang) for emb, lang in zip(embeds, batch[\"y\"])], \n",
    "    columns=[\"x\", \"y\", \"lang\"]\n",
    ")\n",
    "data"
   ],
   "id": "d892bc8a0ae5e9a7",
   "outputs": [
    {
     "data": {
      "text/plain": [
       "           x         y     lang\n",
       "0  -1.922642 -0.981804   german\n",
       "1   7.607730 -0.230768  english\n",
       "2   7.146054  1.213350  english\n",
       "3  -0.483143  3.153280  english\n",
       "4  -2.869485 -0.937774   german\n",
       "..       ...       ...      ...\n",
       "75  6.994867  1.269254  english\n",
       "76 -3.065395  2.756530   german\n",
       "77 -2.891621 -0.781219   german\n",
       "78 -2.844233  1.753359   german\n",
       "79  7.363866  0.380763  english\n",
       "\n",
       "[80 rows x 3 columns]"
      ],
      "text/html": [
       "<div>\n",
       "<style scoped>\n",
       "    .dataframe tbody tr th:only-of-type {\n",
       "        vertical-align: middle;\n",
       "    }\n",
       "\n",
       "    .dataframe tbody tr th {\n",
       "        vertical-align: top;\n",
       "    }\n",
       "\n",
       "    .dataframe thead th {\n",
       "        text-align: right;\n",
       "    }\n",
       "</style>\n",
       "<table border=\"1\" class=\"dataframe\">\n",
       "  <thead>\n",
       "    <tr style=\"text-align: right;\">\n",
       "      <th></th>\n",
       "      <th>x</th>\n",
       "      <th>y</th>\n",
       "      <th>lang</th>\n",
       "    </tr>\n",
       "  </thead>\n",
       "  <tbody>\n",
       "    <tr>\n",
       "      <th>0</th>\n",
       "      <td>-1.922642</td>\n",
       "      <td>-0.981804</td>\n",
       "      <td>german</td>\n",
       "    </tr>\n",
       "    <tr>\n",
       "      <th>1</th>\n",
       "      <td>7.607730</td>\n",
       "      <td>-0.230768</td>\n",
       "      <td>english</td>\n",
       "    </tr>\n",
       "    <tr>\n",
       "      <th>2</th>\n",
       "      <td>7.146054</td>\n",
       "      <td>1.213350</td>\n",
       "      <td>english</td>\n",
       "    </tr>\n",
       "    <tr>\n",
       "      <th>3</th>\n",
       "      <td>-0.483143</td>\n",
       "      <td>3.153280</td>\n",
       "      <td>english</td>\n",
       "    </tr>\n",
       "    <tr>\n",
       "      <th>4</th>\n",
       "      <td>-2.869485</td>\n",
       "      <td>-0.937774</td>\n",
       "      <td>german</td>\n",
       "    </tr>\n",
       "    <tr>\n",
       "      <th>...</th>\n",
       "      <td>...</td>\n",
       "      <td>...</td>\n",
       "      <td>...</td>\n",
       "    </tr>\n",
       "    <tr>\n",
       "      <th>75</th>\n",
       "      <td>6.994867</td>\n",
       "      <td>1.269254</td>\n",
       "      <td>english</td>\n",
       "    </tr>\n",
       "    <tr>\n",
       "      <th>76</th>\n",
       "      <td>-3.065395</td>\n",
       "      <td>2.756530</td>\n",
       "      <td>german</td>\n",
       "    </tr>\n",
       "    <tr>\n",
       "      <th>77</th>\n",
       "      <td>-2.891621</td>\n",
       "      <td>-0.781219</td>\n",
       "      <td>german</td>\n",
       "    </tr>\n",
       "    <tr>\n",
       "      <th>78</th>\n",
       "      <td>-2.844233</td>\n",
       "      <td>1.753359</td>\n",
       "      <td>german</td>\n",
       "    </tr>\n",
       "    <tr>\n",
       "      <th>79</th>\n",
       "      <td>7.363866</td>\n",
       "      <td>0.380763</td>\n",
       "      <td>english</td>\n",
       "    </tr>\n",
       "  </tbody>\n",
       "</table>\n",
       "<p>80 rows × 3 columns</p>\n",
       "</div>"
      ]
     },
     "execution_count": 9,
     "metadata": {},
     "output_type": "execute_result"
    }
   ],
   "execution_count": 9
  },
  {
   "metadata": {
    "ExecuteTime": {
     "end_time": "2024-05-02T15:33:38.292136Z",
     "start_time": "2024-05-02T15:33:37.842895Z"
    }
   },
   "cell_type": "code",
   "source": "sns.scatterplot(data, x='x', y='y', hue='lang')",
   "id": "6278e15de7ad756e",
   "outputs": [
    {
     "data": {
      "text/plain": [
       "<Axes: xlabel='x', ylabel='y'>"
      ]
     },
     "execution_count": 10,
     "metadata": {},
     "output_type": "execute_result"
    },
    {
     "data": {
      "text/plain": [
       "<Figure size 640x480 with 1 Axes>"
      ],
      "image/png": "[encoded data removed]"
     },
     "metadata": {},
     "output_type": "display_data"
    }
   ],
   "execution_count": 10
  }
 ],
 "metadata": {
  "kernelspec": {
   "display_name": "Python 3",
   "language": "python",
   "name": "python3"
  },
  "language_info": {
   "codemirror_mode": {
    "name": "ipython",
    "version": 2
   },
   "file_extension": ".py",
   "mimetype": "text/x-python",
   "name": "python",
   "nbconvert_exporter": "python",
   "pygments_lexer": "ipython2",
   "version": "2.7.6"
  }
 },
 "nbformat": 4,
 "nbformat_minor": 5
}
