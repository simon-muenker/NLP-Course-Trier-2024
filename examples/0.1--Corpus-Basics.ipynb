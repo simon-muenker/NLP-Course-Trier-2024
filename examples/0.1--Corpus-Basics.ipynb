{
 "cells": [
  {
   "metadata": {},
   "cell_type": "code",
   "source": [
    "import pandas as pd\n",
    "import seaborn as sns\n",
    "\n",
    "import cltrier_nlp as nlp"
   ],
   "id": "initial_id",
   "outputs": [],
   "execution_count": null
  },
  {
   "metadata": {},
   "cell_type": "code",
   "source": "CORPUS_FILE: str = './data/corpus.txt'",
   "id": "8d7bf9b7f6c79494",
   "outputs": [],
   "execution_count": null
  },
  {
   "metadata": {},
   "cell_type": "code",
   "source": [
    "corpus = nlp.corpus.Corpus.from_txt(CORPUS_FILE)\n",
    "corpus.to_df()"
   ],
   "id": "83492fe61ed5ee40",
   "outputs": [],
   "execution_count": null
  },
  {
   "metadata": {},
   "cell_type": "code",
   "source": [
    "(\n",
    "    pd.DataFrame(\n",
    "        corpus\n",
    "        .count_languages()\n",
    "        .most_common(20),\n",
    "    )\n",
    "    .rename(columns={\n",
    "        0: 'lang',\n",
    "        1: 'count'\n",
    "    })\n",
    ")"
   ],
   "id": "a7f65db777a530e5",
   "outputs": [],
   "execution_count": null
  },
  {
   "metadata": {},
   "cell_type": "code",
   "source": [
    "sns.barplot(\n",
    "    pd.DataFrame(\n",
    "        corpus\n",
    "        .count_tokens()\n",
    "        .most_common(20),\n",
    "    )\n",
    "    .rename(columns={\n",
    "        0: 'token',\n",
    "        1: 'count'\n",
    "    }),\n",
    "    x='count',\n",
    "    y='token',\n",
    "    hue='token'\n",
    ")"
   ],
   "id": "9bd3f053d6bce489",
   "outputs": [],
   "execution_count": null
  },
  {
   "metadata": {},
   "cell_type": "code",
   "source": [
    "(\n",
    "    pd.DataFrame(\n",
    "        corpus\n",
    "        .count_ngrams(4)\n",
    "        .most_common(40),\n",
    "    )\n",
    "    .rename(columns={\n",
    "        0: 'token',\n",
    "        1: 'count'\n",
    "    })\n",
    ")"
   ],
   "id": "665eba8c419acce4",
   "outputs": [],
   "execution_count": null
  },
  {
   "metadata": {},
   "cell_type": "code",
   "source": "",
   "id": "7461d8d244a709ac",
   "outputs": [],
   "execution_count": null
  }
 ],
 "metadata": {
  "kernelspec": {
   "display_name": "Python 3",
   "language": "python",
   "name": "python3"
  },
  "language_info": {
   "codemirror_mode": {
    "name": "ipython",
    "version": 2
   },
   "file_extension": ".py",
   "mimetype": "text/x-python",
   "name": "python",
   "nbconvert_exporter": "python",
   "pygments_lexer": "ipython2",
   "version": "2.7.6"
  }
 },
 "nbformat": 4,
 "nbformat_minor": 5
}
