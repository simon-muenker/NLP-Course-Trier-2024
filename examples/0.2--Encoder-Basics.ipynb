{
 "cells": [
  {
   "cell_type": "code",
   "id": "initial_id",
   "metadata": {
    "collapsed": true
   },
   "source": [
    "import pandas as pd\n",
    "import seaborn as sns\n",
    "import numpy as np\n",
    "\n",
    "from sklearn.decomposition import PCA\n",
    "\n",
    "import cltrier_nlp as nlp"
   ],
   "outputs": [],
   "execution_count": null
  },
  {
   "metadata": {},
   "cell_type": "code",
   "source": [
    "CORPUS_FILE: str = './data/corpus.txt'\n",
    "BATCH_SIZE: int = 80"
   ],
   "id": "39f16235201a5120",
   "outputs": [],
   "execution_count": null
  },
  {
   "metadata": {},
   "cell_type": "code",
   "source": "corpus = nlp.corpus.Corpus.from_txt(CORPUS_FILE)",
   "id": "cb43a96a57afdf90",
   "outputs": [],
   "execution_count": null
  },
  {
   "metadata": {},
   "cell_type": "code",
   "source": [
    "encoder = nlp.encoder.Encoder()\n",
    "pooler = nlp.encoder.EncoderPooler()"
   ],
   "id": "83492fe61ed5ee40",
   "outputs": [],
   "execution_count": null
  },
  {
   "metadata": {},
   "cell_type": "code",
   "source": [
    "batch: dict = {\n",
    "    'x': [sent.content for sent in corpus.sentences[:BATCH_SIZE]],\n",
    "    'y': [sent.language for sent in corpus.sentences[:BATCH_SIZE]],\n",
    "}"
   ],
   "id": "66e7ae4127d406de",
   "outputs": [],
   "execution_count": null
  },
  {
   "metadata": {},
   "cell_type": "code",
   "source": [
    "encodes = encoder(batch['x'])\n",
    "encodes.model_dump().keys()"
   ],
   "id": "a7f65db777a530e5",
   "outputs": [],
   "execution_count": null
  },
  {
   "metadata": {},
   "cell_type": "code",
   "source": [
    "embeds: np.ndarray = PCA(n_components=2).fit_transform(\n",
    "    np.stack([embed.detach().numpy() for embed in pooler(encodes, form=\"sent_cls\")])\n",
    ")"
   ],
   "id": "7461d8d244a709ac",
   "outputs": [],
   "execution_count": null
  },
  {
   "metadata": {},
   "cell_type": "code",
   "source": [
    "data = pd.DataFrame(\n",
    "    [(emb[0], emb[1], lang) for emb, lang in zip(embeds, batch[\"y\"])], \n",
    "    columns=[\"x\", \"y\", \"lang\"]\n",
    ")\n",
    "data"
   ],
   "id": "d892bc8a0ae5e9a7",
   "outputs": [],
   "execution_count": null
  },
  {
   "metadata": {},
   "cell_type": "code",
   "source": "sns.scatterplot(data, x='x', y='y', hue='lang')",
   "id": "6278e15de7ad756e",
   "outputs": [],
   "execution_count": null
  }
 ],
 "metadata": {
  "kernelspec": {
   "display_name": "Python 3",
   "language": "python",
   "name": "python3"
  },
  "language_info": {
   "codemirror_mode": {
    "name": "ipython",
    "version": 2
   },
   "file_extension": ".py",
   "mimetype": "text/x-python",
   "name": "python",
   "nbconvert_exporter": "python",
   "pygments_lexer": "ipython2",
   "version": "2.7.6"
  }
 },
 "nbformat": 4,
 "nbformat_minor": 5
}
